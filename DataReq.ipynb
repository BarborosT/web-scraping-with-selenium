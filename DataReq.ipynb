{
 "cells": [
  {
   "cell_type": "code",
   "execution_count": 24,
   "metadata": {},
   "outputs": [],
   "source": [
    "from selenium import webdriver\n",
    "from selenium.webdriver.common.by import By\n",
    "from selenium.webdriver.common.keys import Keys\n",
    "from warnings import filterwarnings\n",
    "filterwarnings(\"ignore\")"
   ]
  },
  {
   "cell_type": "code",
   "execution_count": 25,
   "metadata": {},
   "outputs": [],
   "source": [
    "from time import sleep"
   ]
  },
  {
   "attachments": {},
   "cell_type": "markdown",
   "metadata": {},
   "source": [
    "-We will receive the name, location, type of accommodation, rating, number of reviews, hotel features and price information of hotel ads on the website\n",
    "this website is here = https://www.etstur.com/Antalya-Otelleri?check_in=30.06.2022&check_out=05.07.2022&adult_1=2"
   ]
  },
  {
   "cell_type": "code",
   "execution_count": 26,
   "metadata": {},
   "outputs": [],
   "source": [
    "def get_data():\n",
    "    pass\n",
    "\n",
    "driver = webdriver.Chrome(\"chromedriver.exe\")\n",
    "driver.set_window_size(1250,740)\n",
    "driver.set_window_position(0,0)\n",
    "driver.get(\"https://www.etstur.com/Antalya-Otelleri?check_in=30.06.2022&check_out=05.07.2022&adult_1=2\")\n",
    "\n",
    "input(\"Press Enter To Continue...\")\n",
    "get_data()"
   ]
  },
  {
   "attachments": {},
   "cell_type": "markdown",
   "metadata": {},
   "source": [
    "- \"webdriver\" on the spot, we add whichever browser we want to pull data from."
   ]
  },
  {
   "attachments": {},
   "cell_type": "markdown",
   "metadata": {},
   "source": [
    "- using a fixed size with the ”set_window_size\" function may be a better choice for capturing our data, because if the size is moving, the HTML codes may change accordingly."
   ]
  },
  {
   "attachments": {},
   "cell_type": "markdown",
   "metadata": {},
   "source": [
    "- “set_windows_position\" represents the opening location of the driver (0,0), so we make it open in the leftmost corner."
   ]
  },
  {
   "attachments": {},
   "cell_type": "markdown",
   "metadata": {},
   "source": [
    "- we give the address we want to display to the ”get()\" function."
   ]
  },
  {
   "attachments": {},
   "cell_type": "markdown",
   "metadata": {},
   "source": [
    "- The main purpose of using the input function is that we don't want it to start pulling data as soon as the website opens, because the site may need to be loaded, so we'll send it to the function by pressing Enter and start the data pulling process there."
   ]
  },
  {
   "attachments": {},
   "cell_type": "markdown",
   "metadata": {},
   "source": []
  },
  {
   "cell_type": "code",
   "execution_count": 27,
   "metadata": {},
   "outputs": [],
   "source": [
    "id_attribute = driver.find_element(By.ID,'tb-autocomplete')\n",
    "id_attribute.send_keys(Keys.CONTROL + \"a\")\n",
    "id_attribute.send_keys(Keys.DELETE)\n",
    "id_attribute.send_keys(\"İstanbul Otelleri\")"
   ]
  },
  {
   "cell_type": "code",
   "execution_count": null,
   "metadata": {},
   "outputs": [],
   "source": []
  },
  {
   "attachments": {},
   "cell_type": "markdown",
   "metadata": {},
   "source": [
    "### XPATH"
   ]
  },
  {
   "attachments": {},
   "cell_type": "markdown",
   "metadata": {},
   "source": [
    "- HTML kodlarında her bloğun kendine özgü bir XPATH’i bulunur. Selenium ile bu XPATH’e göre de element bulma işlemi gerçekleştirebiliyoruz. Bir elementin XPATH adresini almak için; üstüne sağ tıklayıp -> Copy -> Copy Xpath şeklinde yapıyoruz."
   ]
  },
  {
   "attachments": {},
   "cell_type": "markdown",
   "metadata": {},
   "source": [
    "- Here we take the XPATH of the element where the name is written to get the hotel names and give it to the function. This function returns an element to us, and we use the “text()” function to retrieve the text inside this element."
   ]
  },
  {
   "cell_type": "code",
   "execution_count": 28,
   "metadata": {},
   "outputs": [],
   "source": [
    "hotel_name_element = driver.find_element(By.XPATH, '//*[@id=\"hotelList\"]/div[3]/a[2]/div/div/div[2]/div/div[1]/div/h2')\n",
    "hotel_name = hotel_name_element.text"
   ]
  },
  {
   "cell_type": "code",
   "execution_count": 29,
   "metadata": {},
   "outputs": [
    {
     "name": "stdout",
     "output_type": "stream",
     "text": [
      "Aydınbey Siu Collection\n"
     ]
    }
   ],
   "source": [
    "print(hotel_name)"
   ]
  },
  {
   "attachments": {},
   "cell_type": "markdown",
   "metadata": {},
   "source": [
    "### NAME"
   ]
  },
  {
   "attachments": {},
   "cell_type": "markdown",
   "metadata": {},
   "source": [
    "- HTML bloklarında bulunabilen name etiketine verilmiş değere göre çekilir. Bu sayfada ID gibi NAME ile bir veri çekme işlemi olmadığından minimum ve maksimum fiyat kısımlarına örnek bir değer gönderelim. Daha sonra “Ara” butonunu XPATH ile bularak tıklama işlemi gerçekleştirelim."
   ]
  },
  {
   "cell_type": "code",
   "execution_count": 30,
   "metadata": {},
   "outputs": [],
   "source": [
    "# To enter the minimum price, find the \"minPrice\" field and send the value\n",
    "name_min_attribute = driver.find_element(By.NAME, 'minPrice')\n",
    "name_min_attribute.send_keys(\"5000\")\n",
    "sleep(0.5)"
   ]
  },
  {
   "cell_type": "code",
   "execution_count": 31,
   "metadata": {},
   "outputs": [],
   "source": [
    "# To enter the maximum price, find the \"maxPrice\" field and send the value\n",
    "name_max_attribute = driver.find_element(By.NAME, 'maxPrice')\n",
    "name_max_attribute.send_keys(\"10000\")\n",
    "sleep(0.5)"
   ]
  },
  {
   "cell_type": "code",
   "execution_count": 32,
   "metadata": {},
   "outputs": [],
   "source": [
    "# Click the button to apply the price filter\n",
    "filter_button = driver.find_element(By.XPATH, '//*[@id=\"filter-group-PriceFilter\"]/div[2]/div/button')\n",
    "filter_button.click()"
   ]
  },
  {
   "attachments": {},
   "cell_type": "markdown",
   "metadata": {},
   "source": [
    "### LINK_TEXT"
   ]
  },
  {
   "attachments": {},
   "cell_type": "markdown",
   "metadata": {},
   "source": [
    "-   It is used in the data extraction process with the value written in the \"<-a->\" tag used in HTML blocks. \"LINK_TEXT“ returns the tag containing the entire value we have given, while ”PARTIAL_LINK_TEXT\" returns the tag containing the value we have given."
   ]
  },
  {
   "cell_type": "code",
   "execution_count": 33,
   "metadata": {},
   "outputs": [
    {
     "name": "stdout",
     "output_type": "stream",
     "text": [
      "https://www.etstur.com/Balayi-Tatili\n",
      "https://www.etstur.com/Kibris-Otelleri\n"
     ]
    }
   ],
   "source": [
    "## Finding the item with the link text\n",
    "linkTextAttribute = driver.find_element(By.LINK_TEXT,'BALAYI')\n",
    "link = linkTextAttribute.get_attribute(\"href\")\n",
    "print(link)\n",
    "# Finding the item with partial link text\n",
    "partialLinkTextAttribute = driver.find_element(By.PARTIAL_LINK_TEXT,'KIBR')\n",
    "partialLink = partialLinkTextAttribute.get_attribute(\"href\")\n",
    "print(partialLink)"
   ]
  },
  {
   "attachments": {},
   "cell_type": "markdown",
   "metadata": {},
   "source": []
  },
  {
   "attachments": {},
   "cell_type": "markdown",
   "metadata": {},
   "source": [
    "### TAG_NAME"
   ]
  },
  {
   "attachments": {},
   "cell_type": "markdown",
   "metadata": {},
   "source": [
    "The ”TAG_NAME\" method is one of the HTML tags; a, div, p, h1, li, etc. by giving one of the tags, it allows you to find each one that has those tags.\n",
    "\n",
    "I have shown you how to pull data according to the <-a> tag here. I made all the tags arrive using the ”find_elements()\" method, and this function returned us a list. if I used the ”find_element()\" method, it would only take the first tag value it sees and the others would not arrive. I then observed a short example when I tried to print non-empty values by returning this list."
   ]
  },
  {
   "cell_type": "code",
   "execution_count": 36,
   "metadata": {},
   "outputs": [
    {
     "name": "stdout",
     "output_type": "stream",
     "text": [
      "UÇAK\n",
      "KIBRIS\n",
      "BALAYI\n",
      "ERKEN REZERVASYON\n",
      "ACENTELER\n",
      "Haritada Göster\n",
      "ETS\n",
      "\n",
      "Yeni bir liste oluştur\n",
      "Voyage Sorgun\n",
      "Sorgun, Side, Antalya\n",
      "Bonus ile Şimdi Al, 4 Ay Sonra Öde\n",
      "Bonus'a özel sepette %5 ek indirim!\n",
      "Uzun Dönem Konaklamalara Özel İndirim\n",
      "Denize Sıfır Aquapark Oteli\n",
      "+7\n",
      "9.5 Mükemmel\n",
      "5394 Yorum\n",
      "Fiyatlar için tarih girin!\n",
      "TARİH SEÇİN\n",
      "ETS\n",
      "\n",
      "Yeni bir liste oluştur\n",
      "Asteria Kemer Resort\n",
      "Çamyuva, Kemer, Antalya\n",
      "Bonus ile Şimdi Al, 4 Ay Sonra Öde\n",
      "Bonus'a özel sepette %5 ek indirim!\n",
      "1000 TL’ye Varan Bonus Kazanma Fırsatı\n",
      "Denize Sıfır Mavi Bayrak\n",
      "+1\n",
      "8.8 Çok İyi\n",
      "839 Yorum\n",
      "Fiyatlar için tarih girin!\n",
      "TARİH SEÇİN\n",
      "ETS\n",
      "\n",
      "Yeni bir liste oluştur\n",
      "Aydınbey Siu Collection\n",
      "Beldibi, Kemer, Antalya\n",
      "Bonus ile Şimdi Al, 4 Ay Sonra Öde\n",
      "Bonus'a özel sepette %5 ek indirim!\n",
      "1000 TL’ye Varan Bonus Kazanma Fırsatı\n",
      "Denize Sıfır Mavi Bayrak\n",
      "Fiyatlar için tarih girin!\n",
      "TARİH SEÇİN\n",
      "ETS\n",
      "\n",
      "Yeni bir liste oluştur\n",
      "Crystal Centro\n",
      "Lara-Kundu, Antalya Merkez, Antalya\n",
      "%25’ini şimdi,\n",
      "%75’ini tatilden önce öde!\n",
      "Bonus ile Şimdi Al, 4 Ay Sonra Öde\n",
      "Bonus'a özel sepette %5 ek indirim!\n",
      "Denize Sıfır Mavi Bayrak\n",
      "8.7 Çok İyi\n",
      "23 Yorum\n",
      "Fiyatlar için tarih girin!\n",
      "TARİH SEÇİN\n",
      "ETS\n",
      "\n",
      "Yeni bir liste oluştur\n",
      "Lago Hotel\n",
      "Titreyengöl, Side, Antalya\n",
      "Bonus ile Şimdi Al, 4 Ay Sonra Öde\n",
      "Bonus'a özel sepette %5 ek indirim!\n",
      "Denize Sıfır Mavi Bayrak\n",
      "Fiyatlar için tarih girin!\n",
      "TARİH SEÇİN\n",
      "ETS\n",
      "\n",
      "Yeni bir liste oluştur\n",
      "Gloria Verde Resort\n",
      "Kadriye, Belek, Antalya\n",
      "Bonus ile Şimdi Al, 4 Ay Sonra Öde\n",
      "Bonus'a özel sepette %5 ek indirim!\n",
      "Denize Sıfır Mavi Bayrak\n",
      "+5\n",
      "9.6 Mükemmel\n",
      "102 Yorum\n",
      "Fiyatlar için tarih girin!\n",
      "TARİH SEÇİN\n",
      "Yeni bir liste oluştur\n",
      "Fore Resort Spa Kemer\n",
      "Kemer Merkez, Kemer, Antalya\n",
      "Bonus ile Şimdi Al, 4 Ay Sonra Öde\n",
      "Bonus'a özel sepette %5 ek indirim!\n",
      "Fiyatlar için tarih girin!\n",
      "TARİH SEÇİN\n",
      "ETS\n",
      "\n",
      "Yeni bir liste oluştur\n",
      "Kremlin Palace\n",
      "Lara-Kundu, Antalya Merkez, Antalya\n",
      "Bonus ile Şimdi Al, 4 Ay Sonra Öde\n",
      "Bonus'a özel sepette %5 ek indirim!\n",
      "1000 TL’ye Varan Bonus Kazanma Fırsatı\n",
      "Tüm Fırsat ve Kampanyalar\n",
      "+2 Daha\n",
      "Denize Sıfır Balayı Oteli\n",
      "8.7 Çok İyi\n",
      "4568 Yorum\n",
      "Fiyatlar için tarih girin!\n",
      "TARİH SEÇİN\n",
      "ETS\n",
      "\n",
      "Yeni bir liste oluştur\n",
      "Maxx Royal Belek Golf Resort\n",
      "Belek, Antalya\n",
      "Bonus ile Şimdi Al, 4 Ay Sonra Öde\n",
      "Bonus'a özel sepette %5 ek indirim!\n",
      "Uzun Dönem Konaklamalara Özel İndirim\n",
      "Denize Sıfır Aquapark Oteli\n",
      "+7\n",
      "9.8 Mükemmel\n",
      "1389 Yorum\n",
      "Fiyatlar için tarih girin!\n",
      "TARİH SEÇİN\n",
      "ETS\n",
      "\n",
      "Yeni bir liste oluştur\n",
      "Voyage Belek Golf & Spa\n",
      "Belek, Antalya\n",
      "Bonus ile Şimdi Al, 4 Ay Sonra Öde\n",
      "Bonus'a özel sepette %5 ek indirim!\n",
      "Uzun Dönem Konaklamalara Özel İndirim\n",
      "Denize Sıfır Aquapark Oteli\n",
      "+6\n",
      "9.6 Mükemmel\n",
      "4640 Yorum\n",
      "Fiyatlar için tarih girin!\n",
      "TARİH SEÇİN\n",
      "ETS\n",
      "\n",
      "Yeni bir liste oluştur\n",
      "Baia Salima Kemer\n",
      "Beldibi, Kemer, Antalya\n",
      "Bonus ile Şimdi Al, 4 Ay Sonra Öde\n",
      "Bonus'a özel sepette %5 ek indirim!\n",
      "Denize Sıfır\n",
      "8.4 Çok İyi\n",
      "1124 Yorum\n",
      "Fiyatlar için tarih girin!\n",
      "TARİH SEÇİN\n",
      "ETS\n",
      "\n",
      "Yeni bir liste oluştur\n",
      "Selectum Family Side\n",
      "Side, Manavgat, Antalya\n",
      "Bonus ile Şimdi Al, 4 Ay Sonra Öde\n",
      "Bonus'a özel sepette %5 ek indirim!\n",
      "1000 TL’ye Varan Bonus Kazanma Fırsatı\n",
      "Denize Sıfır Aquapark Oteli\n",
      "+3\n",
      "8.8 Çok İyi\n",
      "1520 Yorum\n",
      "Fiyatlar için tarih girin!\n",
      "TARİH SEÇİN\n",
      "ETS\n",
      "\n",
      "Yeni bir liste oluştur\n",
      "Baia Lara\n",
      "Lara-Kundu, Antalya Merkez, Antalya\n",
      "Bonus ile Şimdi Al, 4 Ay Sonra Öde\n",
      "Bonus'a özel sepette %5 ek indirim!\n",
      "Denize Sıfır Mavi Bayrak\n",
      "+4\n",
      "9.3 Mükemmel\n",
      "533 Yorum\n",
      "Fiyatlar için tarih girin!\n",
      "TARİH SEÇİN\n",
      "ETS\n",
      "\n",
      "Yeni bir liste oluştur\n",
      "Fun&Sun Family Life Side\n",
      "Kızılot, Manavgat, Antalya\n",
      "Denize Sıfır Balayı Oteli\n",
      "7.2 İyi\n",
      "227 Yorum\n",
      "Fiyatlar için tarih girin!\n",
      "TARİH SEÇİN\n",
      "ETS\n",
      "\n",
      "Yeni bir liste oluştur\n",
      "Trendy Lara Hotel\n",
      "Lara-Kundu, Antalya Merkez, Antalya\n",
      "Bonus ile Şimdi Al, 4 Ay Sonra Öde\n",
      "Bonus'a özel sepette %5 ek indirim!\n",
      "1000 TL’ye Varan Bonus Kazanma Fırsatı\n",
      "Mavi Bayrak Balayı Oteli\n",
      "+1\n",
      "9.2 Mükemmel\n",
      "946 Yorum\n",
      "Fiyatlar için tarih girin!\n",
      "TARİH SEÇİN\n",
      "ETS\n",
      "\n",
      "Yeni bir liste oluştur\n",
      "Rixos Park Belek Hotel\n",
      "İleribaşı Mevkii, Belek, Antalya\n",
      "Bonus ile Şimdi Al, 4 Ay Sonra Öde\n",
      "Bonus'a özel sepette %5 ek indirim!\n",
      "1000 TL’ye Varan Bonus Kazanma Fırsatı\n",
      "Uzun Dönem Konaklamalara Özel İndirim\n",
      "Denize Sıfır\n",
      "8.4 Çok İyi\n",
      "9 Yorum\n",
      "Fiyatlar için tarih girin!\n",
      "TARİH SEÇİN\n",
      "ETS\n",
      "\n",
      "Yeni bir liste oluştur\n",
      "Güral Premier Tekirova\n",
      "Tekirova, Kemer, Antalya\n",
      "Bonus ile Şimdi Al, 4 Ay Sonra Öde\n",
      "Bonus'a özel sepette %5 ek indirim!\n",
      "Uzun Dönem Konaklamalara Özel İndirim\n",
      "Denize Sıfır Aquapark Oteli\n",
      "+6\n",
      "9.4 Mükemmel\n",
      "1779 Yorum\n",
      "Fiyatlar için tarih girin!\n",
      "TARİH SEÇİN\n",
      "ETS\n",
      "\n",
      "Yeni bir liste oluştur\n",
      "Selectum Luxury Resort\n",
      "Kadriye, Belek, Antalya\n",
      "Bonus ile Şimdi Al, 4 Ay Sonra Öde\n",
      "Bonus'a özel sepette %5 ek indirim!\n",
      "1000 TL’ye Varan Bonus Kazanma Fırsatı\n",
      "Tüm Fırsat ve Kampanyalar\n",
      "+2 Daha\n",
      "Denize Sıfır Mavi Bayrak\n",
      "+1\n",
      "9.4 Mükemmel\n",
      "814 Yorum\n",
      "Fiyatlar için tarih girin!\n",
      "TARİH SEÇİN\n",
      "ETS\n",
      "\n",
      "Yeni bir liste oluştur\n",
      "Calista Luxury Resort\n",
      "Kadriye, Belek, Antalya\n",
      "Bonus ile Şimdi Al, 4 Ay Sonra Öde\n",
      "Bonus'a özel sepette %5 ek indirim!\n",
      "Uzun Dönem Konaklamalara Özel İndirim\n",
      "Denize Sıfır Mavi Bayrak\n",
      "+6\n",
      "9.6 Mükemmel\n",
      "303 Yorum\n",
      "Fiyatlar için tarih girin!\n",
      "TARİH SEÇİN\n",
      "ETS\n",
      "\n",
      "Yeni bir liste oluştur\n",
      "Ic Hotels Green Palace\n",
      "Lara-Kundu, Antalya Merkez, Antalya\n",
      "Bonus ile Şimdi Al, 4 Ay Sonra Öde\n",
      "Bonus'a özel sepette %5 ek indirim!\n",
      "1000 TL’ye Varan Bonus Kazanma Fırsatı\n",
      "Denize Sıfır Aquapark Oteli\n",
      "+6\n",
      "9.1 Mükemmel\n",
      "1425 Yorum\n",
      "Fiyatlar için tarih girin!\n",
      "TARİH SEÇİN\n",
      "Antalya butik oteller\n",
      "Antalya pansiyonlar\n",
      "balayı otelleri ile Antalya\n",
      "Antalya otellerinde de erken rezervasyon fırsatlarını\n",
      "Antalya Uçak bileti\n",
      "En Beğenilen Antalya Otelleri\n",
      "Antalya Merkez Otelleri\n",
      "Antalya Her Şey Dahil Oteller\n",
      "Antalya Ultra Her Şey Dahil Oteller\n",
      "Antalya Balayı Otelleri\n",
      "Antalya Denize Sıfır Oteller\n",
      "Antalya Tatil Köyleri\n",
      "Antalya Çocuk Dostu Oteller\n",
      "Antalya SPA Otelleri\n",
      "444 0 387\n",
      "Tatilde bir numara!\n",
      "150'nin\n",
      "üzerinde acente\n",
      "Belek Otelleri\n",
      "Demre Otelleri\n",
      "Kalkan Otelleri\n",
      "Kemer Otelleri\n",
      "Kumluca Otelleri\n",
      "Patara Otelleri\n",
      "Kepez Otelleri\n",
      "Kaş Otelleri\n",
      "Gazipaşa Otelleri\n",
      "Manavgat Otelleri\n",
      "Finike Otelleri\n",
      "Antalya Merkez Otelleri\n",
      "Alanya Otelleri\n",
      "Üç Kum Tepesi Mevkii Otelleri\n",
      "Alanya Merkez Otelleri\n",
      "Tekirova Otelleri\n",
      "Avsallar Otelleri\n",
      "Türkler Otelleri\n",
      "İskele Mevkii Otelleri\n",
      "Kızılagac Otelleri\n",
      "Kadriye Otelleri\n",
      "Sorgun Otelleri\n",
      "İbradı Otelleri\n",
      "Muratpaşa Otelleri\n",
      "Belek Boğazkent Otelleri\n",
      "Serik Boğazkent Otelleri\n",
      "Kızılot Otelleri\n",
      "Çamyuva Otelleri\n",
      "Kaş Merkez Otelleri\n",
      "Mavikent Otelleri\n",
      "Voyage Sorgun\n",
      "Asteria Kemer Resort\n",
      "Aydınbey Siu Collection\n",
      "Crystal Centro\n",
      "Lago Hotel\n",
      "Gloria Verde Resort\n",
      "Fore Resort Spa Kemer\n",
      "Kremlin Palace\n",
      "Maxx Royal Belek Golf Resort\n",
      "Voyage Belek Golf & Spa\n",
      "Baia Salima Kemer\n",
      "Selectum Family Side\n",
      "Baia Lara\n",
      "Fun&Sun Family Life Side\n",
      "Trendy Lara Hotel\n",
      "Rixos Park Belek Hotel\n",
      "Güral Premier Tekirova\n",
      "Selectum Luxury Resort\n",
      "Calista Luxury Resort\n",
      "Ic Hotels Green Palace\n",
      "Amara Family Resort\n",
      "Swandor Hotels & Resort Kemer\n",
      "Swandor Hotels Resorts-Topkapı Palace\n",
      "Titanic Mardan Palace\n",
      "Concorde De Luxe Resort\n",
      "Güral Premier Belek\n",
      "Titanic Deluxe Golf Belek\n",
      "Kaya Side\n",
      "Titanic Deluxe Lara\n",
      "Granada Luxury Okurcalar\n",
      "Antalya Otelleri\n",
      "Alanya Otelleri\n",
      "Ayvalık Otelleri\n",
      "Kemer Otelleri\n",
      "Kuşadası Otelleri\n",
      "Assos Otelleri\n",
      "Belek Otelleri\n",
      "Bodrum Otelleri\n",
      "Bozcaada Otelleri\n",
      "Bursa Otelleri\n",
      "Çeşme Otelleri\n",
      "Didim Otelleri\n",
      "Datça Otelleri\n",
      "Eskişehir Otelleri\n",
      "Fethiye Otelleri\n",
      "İzmir Otelleri\n",
      "İstanbul Otelleri\n",
      "Kapadokya Otelleri\n",
      "Kaş Otelleri\n",
      "Amasra Otelleri\n",
      "Ankara Otelleri\n",
      "Marmaris Otelleri\n",
      "Mersin Otelleri\n",
      "Uludağ Otelleri\n",
      "Abant Otelleri\n",
      "Bolu Otelleri\n",
      "Sapanca Otelleri\n",
      "Palandöken Otelleri\n",
      "Büyükada Otelleri\n",
      "Ağva Otelleri\n",
      "Otel\n",
      "Tur\n",
      "Uçak Bileti\n",
      "Land of Legends\n",
      "Online Katalog\n",
      "Resmi Tatil Günleri\n",
      "Erken Rezervasyon Otelleri\n",
      "Kampanyalar\n",
      "İptal ve İade Paketi\n",
      "Tatil Fırsatları\n",
      "Hediye Kart\n",
      "Transfer ve Ulaşım Avantajı\n",
      "İletişim\n",
      "Haberler\n",
      "Satış Acentelerimiz\n",
      "Şirketlere Özel\n",
      "Kurumsal\n",
      "İnsan Kaynakları\n",
      "Bilgi Toplumu Hizmetleri\n",
      "Kişisel Verilerin Korunması Politikası\n",
      "İşlem Rehberi\n",
      "Satış Kanalları\n",
      "Misafir İlişkileri Yardımı\n",
      "ISO 9001 Belgesi\n",
      "ISO 10002 Belgesi\n",
      "Etstur\n",
      "Odamax\n",
      "Didimtur\n",
      "Etsmice\n",
      "Maxx Royal\n",
      "Voyage Hotels\n",
      "Otelpuan\n",
      "Kullanım Sözleşmesi\n",
      "Gizlilik Sözleşmesi\n",
      "Kişisel Verilerin Korunması ve İşlenmesi Politikası\n"
     ]
    }
   ],
   "source": [
    "tagAttribute = driver.find_elements(By.TAG_NAME,'a')\n",
    "for k in tagAttribute:\n",
    "    if len(k.text) > 0:\n",
    "        print(k.text)\n"
   ]
  },
  {
   "attachments": {},
   "cell_type": "markdown",
   "metadata": {},
   "source": [
    "###  CLASS_NAME"
   ]
  },
  {
   "attachments": {},
   "cell_type": "markdown",
   "metadata": {},
   "source": [
    "With this method, we perform a search operation according to a specific class Decal. Since only the price information here has its own class value, this code returned us the price information of all the ads on that page."
   ]
  },
  {
   "cell_type": "code",
   "execution_count": 37,
   "metadata": {},
   "outputs": [],
   "source": [
    "classAttribute = driver.find_elements(By.CLASS_NAME,'integers ')\n",
    "for k in classAttribute:\n",
    "    if len(k.text) > 0:\n",
    "        print(k.text)"
   ]
  },
  {
   "attachments": {},
   "cell_type": "markdown",
   "metadata": {},
   "source": [
    "### CSS_SELECTOR"
   ]
  },
  {
   "attachments": {},
   "cell_type": "markdown",
   "metadata": {},
   "source": [
    "- CSS_SELECTOR works in a logic very similar to the CLASS_NAME method. As a difference in CSS_SELECTOR, the withdrawal operation can be performed according to the class value of a specific tag. But in cases where the label is insignificant “.typing \"example“ returns tags with the class value ”example\" in all tags. This is why it is very similar to CLASS_NAME."
   ]
  },
  {
   "attachments": {},
   "cell_type": "markdown",
   "metadata": {},
   "source": []
  },
  {
   "cell_type": "code",
   "execution_count": 39,
   "metadata": {},
   "outputs": [],
   "source": [
    "classAttribute = driver.find_elements(By.CSS_SELECTOR,'i.integers ')\n",
    "for k in classAttribute:\n",
    "    if len(k.text) > 0:\n",
    "        print(k.text)"
   ]
  },
  {
   "cell_type": "code",
   "execution_count": null,
   "metadata": {},
   "outputs": [],
   "source": []
  }
 ],
 "metadata": {
  "kernelspec": {
   "display_name": "Python 3",
   "language": "python",
   "name": "python3"
  },
  "language_info": {
   "codemirror_mode": {
    "name": "ipython",
    "version": 3
   },
   "file_extension": ".py",
   "mimetype": "text/x-python",
   "name": "python",
   "nbconvert_exporter": "python",
   "pygments_lexer": "ipython3",
   "version": "3.9.10"
  },
  "orig_nbformat": 4
 },
 "nbformat": 4,
 "nbformat_minor": 2
}
